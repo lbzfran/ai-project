{
 "cells": [
  {
   "cell_type": "markdown",
   "id": "5cf61c4b",
   "metadata": {},
   "source": [
    "# Programming Task Description\n",
    "\n",
    "## Programming Task: Implementing a Character-Level GPT Model\n",
    "\n",
    "### Introduction\n",
    "In this task, you will create a Python script using PyTorch to implement a simplified GPT (Generative Pre-trained Transformer) model for character-level language modeling. The model will be trained on the text in input.txt to predict the next character in a sequence and generate new text based on a given context. The architecture follows the decoder part of the transformer model from the \"Attention is All You Need\" paper by Vaswani et al., focusing on masked multi-head self-attention to ensure predictions depend only on previous positions."
   ]
  },
  {
   "cell_type": "markdown",
   "id": "8537c2f6",
   "metadata": {},
   "source": [
    "## Task Description\n",
    "### Your goal is to write a Python jupyter notebook that:\n",
    "\n",
    "1. Reads and processes the text from input.txt.\n",
    "2. Implements a decoder-only transformer model with manual attention mechanisms.\n",
    "3. Trains the model on the processed data.\n",
    "4. Generates new text using the trained model.\n",
    "\n",
    "You will use PyTorch and implement the attention mechanism from scratch, following the decoder structure outlined in the \"Attention is All You Need\" paper."
   ]
  },
  {
   "cell_type": "markdown",
   "id": "2df79368",
   "metadata": {},
   "source": [
    "### Step-by-step Guide"
   ]
  },
  {
   "cell_type": "markdown",
   "id": "1d5d36b1",
   "metadata": {},
   "source": [
    "1. Data Preparation\n",
    "* Read all text from input.txt using UTF-8 encoding.\n",
    "* Create a sorted list of unique characters (vocabulary) from the text.\n",
    "* Build two dictionaries:\n",
    "    * stoi: Maps characters to integers (e.g., 'a' -> 0).\n",
    "    * itos: Maps integers to characters (e.g., 0 -> 'a').\n",
    "* Define functions:\n",
    "    * encode(s): Converts a string to a list of integers using stoi.\n",
    "    * decode(l): Converts a list of integers to a string using itos.\n",
    "* Encode the entire text into a tensor of integers using torch.tensor.\n",
    "* Split the data: 90% for training, 10% for validation."
   ]
  },
  {
   "cell_type": "markdown",
   "id": "d37a3e46",
   "metadata": {},
   "source": [
    "2. Data Loading\n",
    "* Implement a function get_batch(split):\n",
    "    * Input: split is either 'train' or 'val'.\n",
    "    * Select the appropriate dataset (training or validation).\n",
    "    * Randomly sample batch_size starting indices, ensuring each sequence fits within block_size.\n",
    "* Return:\n",
    "    * x: A tensor of shape (batch_size, block_size) with input sequences.\n",
    "    * y: A tensor of shape (batch_size, block_size) with target sequences (shifted by one position).\n",
    "* Move tensors to the device (CPU or GPU)."
   ]
  },
  {
   "cell_type": "markdown",
   "id": "6f100337",
   "metadata": {},
   "source": [
    "3. Model Architecture\n",
    "* Implement the following components in a decoder-only transformer:\n",
    "    * Embedding Layers:\n",
    "        * Token embedding: nn.Embedding(vocab_size, n_embd) for character indices.\n",
    "        * Position embedding: nn.Embedding(block_size, n_embd) for positions 0 to block_size-1.\n",
    "    * Transformer Blocks:\n",
    "        * Each block includes:\n",
    "            * Masked Multi-Head Self-Attention:\n",
    "                * Implement manually (do not use nn.MultiheadAttention).\n",
    "                * For each head:\n",
    "                    * Linear layers for queries (Q), keys (K), and values (V).\n",
    "                    * Scaled dot-product attention: attention = softmax((Q @ K.T) / sqrt(d_k)) @ V.\n",
    "                    * Mask future positions with a lower triangular matrix (e.g., tril) by setting future weights to -inf before softmax.\n",
    "                * Concatenate heads and apply a projection layer.\n",
    "            * Feed-Forward Network: nn.Linear(n_embd, 4 * n_embd) → ReLU → nn.Linear(4 * n_embd, n_embd).\n",
    "            * Layer Normalization: Apply nn.LayerNorm(n_embd) before each sub-layer (pre-norm).\n",
    "            * Residual Connections: Add input to output of each sub-layer.\n",
    "        * Use n_layer blocks in sequence.\n",
    "    * Final Layers:\n",
    "        * nn.LayerNorm(n_embd) for final normalization.\n",
    "        * nn.Linear(n_embd, vocab_size) to produce logits.\n",
    "* Define a GPTLanguageModel class with:\n",
    "    * forward(idx, targets=None): Computes logits and loss (if targets provided).\n",
    "    * generate(idx, max_new_tokens): Autoregressively generates new tokens."
   ]
  },
  {
   "cell_type": "markdown",
   "id": "2098832e",
   "metadata": {},
   "source": [
    "4. Training\n",
    "* Use the AdamW optimizer with learning_rate = 3e-4.\n",
    "* Train for max_iters = 5000 iterations.\n",
    "* Estimate and print training and validation losses:\n",
    "* Compute loss using F.cross_entropy on flattened logits and targets."
   ]
  },
  {
   "cell_type": "markdown",
   "id": "1838a7a8",
   "metadata": {},
   "source": [
    "5. Text Generation\n",
    "* Implement generate(idx, max_new_tokens):\n",
    "    * Start with an initial context idx (shape (B, T)).\n",
    "    * For max_new_tokens steps:\n",
    "        * Crop idx to the last block_size tokens.\n",
    "        * Get logits from forward.\n",
    "        * Apply softmax to the last time step’s logits to get probabilities.\n",
    "        * Sample the next token using torch.multinomial.\n",
    "        * Append the sampled token to idx.\n",
    "    * Return the extended sequence."
   ]
  },
  {
   "cell_type": "markdown",
   "id": "0d2b8dab",
   "metadata": {},
   "source": [
    "### Hyperparameters\n",
    "Use these values:\n",
    "\n",
    "* batch_size = 64\n",
    "* block_size = 256\n",
    "* n_embd = 384\n",
    "* n_head = 6\n",
    "* n_layer = 6\n",
    "* dropout = 0.2\n",
    "* learning_rate = 3e-4\n",
    "* max_iters = 5000"
   ]
  },
  {
   "cell_type": "markdown",
   "id": "89d1a954",
   "metadata": {},
   "source": [
    "### Understanding the Decoder\n",
    "The \"Attention is All You Need\" paper describes a transformer with an encoder and decoder. For this task, you focus on the decoder-only architecture used in GPT:\n",
    "\n",
    "* Masked Self-Attention: Ensures the model only attends to previous positions in the sequence, making it autoregressive. This is achieved by masking future tokens in the attention computation, as shown below:\n",
    "\n",
    "$Attention (Q, K, V) = softmax((Q@K.T)/sqrt(d_{k}) + mask) @V$ \n",
    "\n",
    "where $mask$ sets future positions to $-inf$\n",
    "\n",
    "* Decoder Role: In the original paper, the decoder generates output sequences while attending to the encoder’s output. Here, without an encoder, it uses self-attention on the input sequence alone, predicting the next token step-by-step."
   ]
  },
  {
   "cell_type": "markdown",
   "id": "5b33caf5",
   "metadata": {},
   "source": [
    "### Additional Notes\n",
    "* Manual Attention: Implement attention from scratch to understand its mechanics (no pre-built PyTorch modules).\n",
    "* Masking: Use a lower triangular matrix (e.g., torch.tril) to mask future positions.\n",
    "* Device Handling: Set device = 'cuda' if torch.cuda.is_available() else 'cpu' and move tensors/models accordingly.\n",
    "* Dropout: Apply nn.Dropout(dropout) in attention and feed-forward layers for regularization."
   ]
  },
  {
   "cell_type": "markdown",
   "id": "9c0da406",
   "metadata": {},
   "source": [
    "### Deliverables\n",
    "A Python script that:\n",
    "* Implements all steps above.\n",
    "* Prints training and validation losses every 500/100? iterations (up to you).\n",
    "* Generates and prints a 500-character sample after training."
   ]
  },
  {
   "cell_type": "markdown",
   "id": "36b7b3ac",
   "metadata": {},
   "source": [
    "### Evaluation Criteria\n",
    "* Correct data preparation and batch loading.\n",
    "* Accurate implementation of the transformer model, especially masked self-attention.\n",
    "* Successful training with decreasing loss.\n",
    "* Generation of coherent (for character-level) text."
   ]
  },
  {
   "cell_type": "markdown",
   "id": "6efe3f81-98ca-4d0f-9a3b-eaa0ba4abb75",
   "metadata": {},
   "source": [
    "# Code"
   ]
  },
  {
   "cell_type": "code",
   "execution_count": 1,
   "id": "f01d92e3-7e1d-4f8a-8688-40681676013c",
   "metadata": {},
   "outputs": [
    {
     "name": "stdout",
     "output_type": "stream",
     "text": [
      "\u001b[1;31merror\u001b[0m: \u001b[1mexternally-managed-environment\u001b[0m\n",
      "\n",
      "\u001b[31m×\u001b[0m This environment is externally managed\n",
      "\u001b[31m╰─>\u001b[0m To install Python packages system-wide, try 'pacman -S\n",
      "\u001b[31m   \u001b[0m python-xyz', where xyz is the package you are trying to\n",
      "\u001b[31m   \u001b[0m install.\n",
      "\u001b[31m   \u001b[0m \n",
      "\u001b[31m   \u001b[0m If you wish to install a non-Arch-packaged Python package,\n",
      "\u001b[31m   \u001b[0m create a virtual environment using 'python -m venv path/to/venv'.\n",
      "\u001b[31m   \u001b[0m Then use path/to/venv/bin/python and path/to/venv/bin/pip.\n",
      "\u001b[31m   \u001b[0m \n",
      "\u001b[31m   \u001b[0m If you wish to install a non-Arch packaged Python application,\n",
      "\u001b[31m   \u001b[0m it may be easiest to use 'pipx install xyz', which will manage a\n",
      "\u001b[31m   \u001b[0m virtual environment for you. Make sure you have python-pipx\n",
      "\u001b[31m   \u001b[0m installed via pacman.\n",
      "\n",
      "\u001b[1;35mnote\u001b[0m: If you believe this is a mistake, please contact your Python installation or OS distribution provider. You can override this, at the risk of breaking your Python installation or OS, by passing --break-system-packages.\n",
      "\u001b[1;36mhint\u001b[0m: See PEP 668 for the detailed specification.\n"
     ]
    }
   ],
   "source": [
    "!pip install matplotlib"
   ]
  },
  {
   "cell_type": "code",
   "execution_count": 2,
   "id": "a8a462bb-a647-431c-95f9-6254d0042425",
   "metadata": {},
   "outputs": [],
   "source": [
    "import torch\n",
    "import torch.nn as nn\n",
    "from torch.nn import functional as F\n",
    "from torch.utils.data import random_split\n",
    "from typing import Optional, Tuple\n",
    "\n",
    "import random\n",
    "#import torchvision\n",
    "#import torchvision.transforms as transforms\n",
    "import matplotlib.pyplot as plt"
   ]
  },
  {
   "cell_type": "code",
   "execution_count": 3,
   "id": "893adce7-5ba0-4305-b7ba-2d76e1324bb9",
   "metadata": {},
   "outputs": [],
   "source": [
    "device = 'cuda' if torch.cuda.is_available() else 'cpu'"
   ]
  },
  {
   "cell_type": "markdown",
   "id": "3ff3525c-9e62-4b99-a1fb-1859b0c1211b",
   "metadata": {},
   "source": [
    "## Data Preprocessing"
   ]
  },
  {
   "cell_type": "code",
   "execution_count": 4,
   "id": "42698f67-bbb7-419e-a704-59c33cf50922",
   "metadata": {},
   "outputs": [],
   "source": [
    "with open(\"data/input-2.txt\", \"r\", encoding=\"utf-8\") as file:\n",
    "    data = file.read()\n",
    "\n",
    "sorted_chars = sorted(list(set(data)))\n",
    "sorted_str = \"\".join(sorted_chars)"
   ]
  },
  {
   "cell_type": "code",
   "execution_count": 5,
   "id": "0f0b4468-3829-42e5-b471-9eda58788378",
   "metadata": {},
   "outputs": [
    {
     "data": {
      "text/plain": [
       "'proceed any further, hear'"
      ]
     },
     "execution_count": 5,
     "metadata": {},
     "output_type": "execute_result"
    }
   ],
   "source": [
    "data[25:50]"
   ]
  },
  {
   "cell_type": "code",
   "execution_count": 6,
   "id": "d764148a-7b84-490e-ac37-4e4b7c78a807",
   "metadata": {},
   "outputs": [],
   "source": [
    "vocab_size = len(sorted_chars)"
   ]
  },
  {
   "cell_type": "code",
   "execution_count": 7,
   "id": "2962a449-330a-42f2-bc6b-78b98b698767",
   "metadata": {},
   "outputs": [],
   "source": [
    "class Tokenizer:\n",
    "    def __init__(self):\n",
    "        self.tokens: dict = {}\n",
    "        self.idx: int = 0\n",
    "\n",
    "    def encode(self, chars: str):\n",
    "        result = []\n",
    "        for c in chars:\n",
    "            if c not in self.tokens.keys():\n",
    "                self.tokens[c] = self.idx\n",
    "                self.idx += 1\n",
    "            result.append(self.tokens[c])\n",
    "        \n",
    "        return result\n",
    "\n",
    "    def decode(self, nums: list[int]):\n",
    "        result = [self.tokens[i] for i in nums]\n",
    "        return result"
   ]
  },
  {
   "cell_type": "code",
   "execution_count": 8,
   "id": "99fd3d3c-7931-4800-bbe8-75a69d62da8f",
   "metadata": {},
   "outputs": [],
   "source": [
    "tokenizer = Tokenizer()\n",
    "encoded_str = tokenizer.encode(sorted_str)"
   ]
  },
  {
   "cell_type": "code",
   "execution_count": 9,
   "id": "8b43ad3a-43d9-47e2-8d6b-d34bb137c0db",
   "metadata": {},
   "outputs": [
    {
     "name": "stdout",
     "output_type": "stream",
     "text": [
      "String to Int:\n",
      " {'\\n': 0, ' ': 1, '!': 2, '$': 3, '&': 4, \"'\": 5, ',': 6, '-': 7, '.': 8, '3': 9, ':': 10, ';': 11, '?': 12, 'A': 13, 'B': 14, 'C': 15, 'D': 16, 'E': 17, 'F': 18, 'G': 19, 'H': 20, 'I': 21, 'J': 22, 'K': 23, 'L': 24, 'M': 25, 'N': 26, 'O': 27, 'P': 28, 'Q': 29, 'R': 30, 'S': 31, 'T': 32, 'U': 33, 'V': 34, 'W': 35, 'X': 36, 'Y': 37, 'Z': 38, 'a': 39, 'b': 40, 'c': 41, 'd': 42, 'e': 43, 'f': 44, 'g': 45, 'h': 46, 'i': 47, 'j': 48, 'k': 49, 'l': 50, 'm': 51, 'n': 52, 'o': 53, 'p': 54, 'q': 55, 'r': 56, 's': 57, 't': 58, 'u': 59, 'v': 60, 'w': 61, 'x': 62, 'y': 63, 'z': 64} \n",
      "\n",
      "Int to String:\n",
      " {0: '\\n', 1: ' ', 2: '!', 3: '$', 4: '&', 5: \"'\", 6: ',', 7: '-', 8: '.', 9: '3', 10: ':', 11: ';', 12: '?', 13: 'A', 14: 'B', 15: 'C', 16: 'D', 17: 'E', 18: 'F', 19: 'G', 20: 'H', 21: 'I', 22: 'J', 23: 'K', 24: 'L', 25: 'M', 26: 'N', 27: 'O', 28: 'P', 29: 'Q', 30: 'R', 31: 'S', 32: 'T', 33: 'U', 34: 'V', 35: 'W', 36: 'X', 37: 'Y', 38: 'Z', 39: 'a', 40: 'b', 41: 'c', 42: 'd', 43: 'e', 44: 'f', 45: 'g', 46: 'h', 47: 'i', 48: 'j', 49: 'k', 50: 'l', 51: 'm', 52: 'n', 53: 'o', 54: 'p', 55: 'q', 56: 'r', 57: 's', 58: 't', 59: 'u', 60: 'v', 61: 'w', 62: 'x', 63: 'y', 64: 'z'}\n"
     ]
    }
   ],
   "source": [
    "stoi = {x: y for x, y in zip(sorted_str, encoded_str)}\n",
    "itos = {x: y for x, y in zip(encoded_str, sorted_str)}\n",
    "\n",
    "print(\"String to Int:\\n\", stoi, \"\\n\")\n",
    "print(\"Int to String:\\n\", itos)"
   ]
  },
  {
   "cell_type": "code",
   "execution_count": 10,
   "id": "aeeb50ef-195b-479b-9101-2f2f84a8e682",
   "metadata": {},
   "outputs": [
    {
     "data": {
      "text/plain": [
       "tensor([18, 47, 56,  ..., 45,  8,  0])"
      ]
     },
     "execution_count": 10,
     "metadata": {},
     "output_type": "execute_result"
    }
   ],
   "source": [
    "encoded_data = torch.tensor(tokenizer.encode(data))\n",
    "encoded_data"
   ]
  },
  {
   "cell_type": "code",
   "execution_count": 22,
   "id": "9e613625-babb-4bb1-9195-1bcfd5ad8690",
   "metadata": {},
   "outputs": [
    {
     "data": {
      "text/plain": [
       "tensor([18, 47, 56,  ..., 43, 56, 43])"
      ]
     },
     "execution_count": 22,
     "metadata": {},
     "output_type": "execute_result"
    }
   ],
   "source": [
    "train_size = int(len(encoded_data) * 0.9)\n",
    "val_size = len(encoded_data) - train_size\n",
    "\n",
    "train_data, val_data = encoded_data[:train_size], encoded_data[train_size + 1: len(encoded_data)]\n",
    "train_data"
   ]
  },
  {
   "cell_type": "code",
   "execution_count": 23,
   "id": "eb8730d5-e257-4ff9-b913-144605da9653",
   "metadata": {},
   "outputs": [],
   "source": [
    "# hyperparameters\n",
    "\n",
    "batch_size = 64\n",
    "block_size = 256\n",
    "n_embd = 384\n",
    "n_head = 6\n",
    "n_layer = 6\n",
    "dropout = 0.2\n",
    "learning_rate = 3e-4\n",
    "max_iters = 5000"
   ]
  },
  {
   "cell_type": "code",
   "execution_count": 42,
   "id": "218a0bce-2daf-4713-943f-49184686f9d9",
   "metadata": {},
   "outputs": [],
   "source": [
    "def get_batch(split: str):\n",
    "    global train_data, val_data\n",
    "    global train_size, val_size\n",
    "    global block_size, batch_size, device\n",
    "\n",
    "    data = {\n",
    "        'train': train_data,\n",
    "        'test': val_data\n",
    "    }.get(split.lower(), None)\n",
    "\n",
    "    data_size = {\n",
    "        'train': train_size,\n",
    "        'test': val_size\n",
    "    }.get(split.lower(), None)\n",
    "\n",
    "    if data is None or data_size is None:\n",
    "        raise ValueError(f\"Invalid split: {split}\")\n",
    "    \n",
    "    start_indices = [random.randint(0, data_size - block_size - 1) for _ in range(batch_size)]\n",
    "\n",
    "    x_list, y_list = [], []\n",
    "    for idx in start_indices:\n",
    "        x = data[idx: idx + block_size]\n",
    "        y = data[idx + 1: idx + block_size + 1]\n",
    "\n",
    "        x_list.append(x.unsqueeze(0))\n",
    "        y_list.append(y.unsqueeze(0))\n",
    "\n",
    "    x_batch = torch.cat(x_list, dim=0).to(device)\n",
    "    y_batch = torch.cat(y_list, dim=0).to(device)\n",
    "\n",
    "    return (x_batch, y_batch)\n",
    "        \n",
    "train_xbatch, train_ybatch = get_batch('train')\n",
    "trainT, trainB = train_xbatch.shape"
   ]
  },
  {
   "cell_type": "code",
   "execution_count": 45,
   "id": "01802210-5fd5-4fbd-a1c8-1010385b0da0",
   "metadata": {},
   "outputs": [
    {
     "data": {
      "text/plain": [
       "torch.Size([64, 256])"
      ]
     },
     "execution_count": 45,
     "metadata": {},
     "output_type": "execute_result"
    }
   ],
   "source": [
    "train_xbatch.size()"
   ]
  },
  {
   "cell_type": "markdown",
   "id": "966f8f16-c830-4e33-bbd0-78e80c2b1b27",
   "metadata": {},
   "source": [
    "## Model Training"
   ]
  },
  {
   "cell_type": "code",
   "execution_count": 60,
   "id": "b11e821e-3091-481a-81bd-94a6c3e5d3a4",
   "metadata": {},
   "outputs": [],
   "source": [
    "class Head(nn.Module):\n",
    "    def __init__(self, n_embd: int, head_size: int, block_size: int, dropout: int):\n",
    "        super().__init__()\n",
    "        self.query = nn.Linear(n_embd, head_size)\n",
    "        self.key = nn.Linear(n_embd, head_size)\n",
    "        self.value = nn.Linear(n_embd, head_size)\n",
    "        \n",
    "        self.register_buffer('tril', torch.tril(torch.ones(block_size, block_size)))           \n",
    "\n",
    "        self.dropout = nn.Dropout(dropout)\n",
    "    \n",
    "    def forward(self, x: torch.Tensor) -> torch.Tensor:\n",
    "        Q = self.query(x)\n",
    "        K = self.key(x)\n",
    "        V = self.value(x)\n",
    "        \n",
    "        B, T, C = x.shape\n",
    "        d_k = K.shape[-1]\n",
    "        # (1, T, T) -> (B, T, T)\n",
    "        mask = self.tril[:T, :T].unsqueeze(0).expand(B, -1, -1).to(x.device)\n",
    "\n",
    "        weights = Q @ K.transpose(-2, 1) * d_k ** -0.5\n",
    "        weights = weights.masked_fill(mask == 0, float('inf'))\n",
    "\n",
    "        weights = F.softmax(weights, dim=-1)\n",
    "        weights = self.dropout(weights)\n",
    "        \n",
    "        out = weights @ V\n",
    "        return out\n",
    "        \n",
    "\n",
    "class MultiHeadAttention(nn.Module):\n",
    "    def __init__(self, vocab_size, block_size, n_embd, n_head, dropout):\n",
    "        super().__init__()\n",
    "        head_size = n_embd // n_head\n",
    "        self.heads = nn.ModuleList([Head(n_embd, head_size, block_size, dropout) for _ in range(n_head)])\n",
    "        self.projection = nn.Linear(n_head * head_size, n_embd)\n",
    "        self.dropout = nn.Dropout(dropout)\n",
    "\n",
    "    def forward(self, x: torch.Tensor) -> torch.Tensor:\n",
    "        cat_heads = torch.cat([h(x) for h in self.heads], dim=-1)\n",
    "        out = self.projection(cat_heads)\n",
    "        out = self.dropout(out)\n",
    "        return out\n",
    "\n",
    "class FeedForward(nn.Module):\n",
    "    def __init__(self, n_embd, dropout):\n",
    "        super().__init__()\n",
    "        self.linear1 = nn.Linear(n_embd, 4 * n_embd)\n",
    "        self.relu = nn.ReLU()\n",
    "        self.linear2 = nn.Linear(4 * n_embd, n_embd)\n",
    "        self.dropout = nn.Dropout(dropout)\n",
    "\n",
    "    def forward(self, x: torch.Tensor) -> torch.Tensor:\n",
    "        out = self.linear1(x)\n",
    "        out = self.relu(out)\n",
    "        out = self.linear2(out)\n",
    "        out = self.dropout(out)\n",
    "        return out\n",
    "\n",
    "class Block(nn.Module):\n",
    "    def __init__(self, vocab_size, block_size, n_embd, n_head, dropout):\n",
    "        super().__init__()\n",
    "\n",
    "        self.attention = MultiHeadAttention(\n",
    "            vocab_size = vocab_size,\n",
    "            block_size = block_size,\n",
    "            n_embd = n_embd,\n",
    "            n_head = n_head,\n",
    "            dropout = dropout\n",
    "        )\n",
    "        self.feed_forward = FeedForward(n_embd, dropout)\n",
    "\n",
    "        self.norm1 = nn.LayerNorm(n_embd)\n",
    "        self.norm2 = nn.LayerNorm(n_embd)\n",
    "\n",
    "    def forward(self, x: torch.Tensor) -> torch.Tensor:\n",
    "        # original input are added back intentionally as residuals\n",
    "        x = x + self.attention(self.norm1(x))\n",
    "        x = x + self.feed_forward(self.norm2(x))\n",
    "        return x\n",
    "    \n",
    "\n",
    "class GPTLanguageModel(nn.Module):\n",
    "    def __init__(self, vocab_size, block_size, n_embd, n_head, n_layer, dropout, device):        \n",
    "        super().__init__()\n",
    "        self.block_size = block_size\n",
    "        self.device = device\n",
    "\n",
    "        self.token_embd = nn.Embedding(vocab_size, n_embd)\n",
    "        self.pos_embd = nn.Embedding(block_size, n_embd)\n",
    "        \n",
    "        self.blocks = nn.Sequential(*[\n",
    "            Block(vocab_size, block_size, n_embd, n_head, dropout) for _ in range(n_layer)\n",
    "        ])\n",
    "        \n",
    "        self.norm = nn.LayerNorm(n_embd)\n",
    "        self.out = nn.Linear(n_embd, vocab_size)\n",
    "\n",
    "        self.to(device)\n",
    "\n",
    "    def forward(self, idx: torch.Tensor, targets: Optional[torch.Tensor] = None) -> Tuple[torch.Tensor, Optional[torch.Tensor]]:\n",
    "        B, T = idx.size()\n",
    "\n",
    "        tk_embedding = self.token_embd(idx)\n",
    "        pos_embedding = self.pos_embd(torch.arange(T, device=self.device))\n",
    "\n",
    "        x = tk_embedding + pos_embedding\n",
    "        x = self.blocks(x)\n",
    "        x = self.norm(x)\n",
    "        logits = self.out(x)\n",
    "\n",
    "        loss = None\n",
    "        if targets:\n",
    "            B, T, C = logits.shape\n",
    "            logits = logits.view(B * T, C)\n",
    "            targets = targets.view(B * T)\n",
    "            loss = F.cross_entropy(logits, targets)\n",
    "\n",
    "        return logits, loss\n",
    "\n",
    "    def generate(self, idx: torch.Tensor, max_new_tokens: int) -> torch.Tensor:\n",
    "        for _ in range(max_new_tokens):\n",
    "            # crop idx to last block_size tokens\n",
    "            crop_input = idx[:, -self.block_size:]\n",
    "\n",
    "            # get logits from forward\n",
    "            logits, _ = self(crop_input)\n",
    "            logits = logits[:, -1, :]\n",
    "\n",
    "            # apply softmax to the last time step's logits\n",
    "            prob = F.softmax(logits, dim=-1)\n",
    "\n",
    "            # sample next token using torch.multinomial\n",
    "            next_idx = torch.multinomial(prob, num_samples=1)\n",
    "\n",
    "            # append sampled token to idx\n",
    "            idx = torch.cat((idx, next_idx), dim=1)\n",
    "        return idx\n",
    "        "
   ]
  },
  {
   "cell_type": "code",
   "execution_count": 61,
   "id": "2b254213-bee0-4cf1-8bbc-abeb55cceb92",
   "metadata": {},
   "outputs": [],
   "source": [
    "model = GPTLanguageModel(vocab_size, block_size, n_embd, n_head, n_layer, dropout, device)\n",
    "\n",
    "optimizer = torch.optim.AdamW(model.parameters(), lr=learning_rate)"
   ]
  },
  {
   "cell_type": "code",
   "execution_count": 62,
   "id": "52044d9f-69b4-4e33-8991-dda81918ff1f",
   "metadata": {},
   "outputs": [
    {
     "ename": "RuntimeError",
     "evalue": "Expected size for first two dimensions of batch2 tensor to be: [64, 64] but got: [64, 256].",
     "output_type": "error",
     "traceback": [
      "\u001b[31m---------------------------------------------------------------------------\u001b[39m",
      "\u001b[31mRuntimeError\u001b[39m                              Traceback (most recent call last)",
      "\u001b[36mCell\u001b[39m\u001b[36m \u001b[39m\u001b[32mIn[62]\u001b[39m\u001b[32m, line 6\u001b[39m\n\u001b[32m      4\u001b[39m model.train()\n\u001b[32m      5\u001b[39m x.shape\n\u001b[32m----> \u001b[39m\u001b[32m6\u001b[39m outputs, loss = \u001b[43mmodel\u001b[49m\u001b[43m(\u001b[49m\u001b[43mx\u001b[49m\u001b[43m,\u001b[49m\u001b[43m \u001b[49m\u001b[43my\u001b[49m\u001b[43m)\u001b[49m\n\u001b[32m      8\u001b[39m optimizer.zero_grad()\n\u001b[32m      9\u001b[39m loss.backward()\n",
      "\u001b[36mFile \u001b[39m\u001b[32m/usr/lib/python3.13/site-packages/torch/nn/modules/module.py:1751\u001b[39m, in \u001b[36mModule._wrapped_call_impl\u001b[39m\u001b[34m(self, *args, **kwargs)\u001b[39m\n\u001b[32m   1749\u001b[39m     \u001b[38;5;28;01mreturn\u001b[39;00m \u001b[38;5;28mself\u001b[39m._compiled_call_impl(*args, **kwargs)  \u001b[38;5;66;03m# type: ignore[misc]\u001b[39;00m\n\u001b[32m   1750\u001b[39m \u001b[38;5;28;01melse\u001b[39;00m:\n\u001b[32m-> \u001b[39m\u001b[32m1751\u001b[39m     \u001b[38;5;28;01mreturn\u001b[39;00m \u001b[38;5;28;43mself\u001b[39;49m\u001b[43m.\u001b[49m\u001b[43m_call_impl\u001b[49m\u001b[43m(\u001b[49m\u001b[43m*\u001b[49m\u001b[43margs\u001b[49m\u001b[43m,\u001b[49m\u001b[43m \u001b[49m\u001b[43m*\u001b[49m\u001b[43m*\u001b[49m\u001b[43mkwargs\u001b[49m\u001b[43m)\u001b[49m\n",
      "\u001b[36mFile \u001b[39m\u001b[32m/usr/lib/python3.13/site-packages/torch/nn/modules/module.py:1762\u001b[39m, in \u001b[36mModule._call_impl\u001b[39m\u001b[34m(self, *args, **kwargs)\u001b[39m\n\u001b[32m   1757\u001b[39m \u001b[38;5;66;03m# If we don't have any hooks, we want to skip the rest of the logic in\u001b[39;00m\n\u001b[32m   1758\u001b[39m \u001b[38;5;66;03m# this function, and just call forward.\u001b[39;00m\n\u001b[32m   1759\u001b[39m \u001b[38;5;28;01mif\u001b[39;00m \u001b[38;5;129;01mnot\u001b[39;00m (\u001b[38;5;28mself\u001b[39m._backward_hooks \u001b[38;5;129;01mor\u001b[39;00m \u001b[38;5;28mself\u001b[39m._backward_pre_hooks \u001b[38;5;129;01mor\u001b[39;00m \u001b[38;5;28mself\u001b[39m._forward_hooks \u001b[38;5;129;01mor\u001b[39;00m \u001b[38;5;28mself\u001b[39m._forward_pre_hooks\n\u001b[32m   1760\u001b[39m         \u001b[38;5;129;01mor\u001b[39;00m _global_backward_pre_hooks \u001b[38;5;129;01mor\u001b[39;00m _global_backward_hooks\n\u001b[32m   1761\u001b[39m         \u001b[38;5;129;01mor\u001b[39;00m _global_forward_hooks \u001b[38;5;129;01mor\u001b[39;00m _global_forward_pre_hooks):\n\u001b[32m-> \u001b[39m\u001b[32m1762\u001b[39m     \u001b[38;5;28;01mreturn\u001b[39;00m \u001b[43mforward_call\u001b[49m\u001b[43m(\u001b[49m\u001b[43m*\u001b[49m\u001b[43margs\u001b[49m\u001b[43m,\u001b[49m\u001b[43m \u001b[49m\u001b[43m*\u001b[49m\u001b[43m*\u001b[49m\u001b[43mkwargs\u001b[49m\u001b[43m)\u001b[49m\n\u001b[32m   1764\u001b[39m result = \u001b[38;5;28;01mNone\u001b[39;00m\n\u001b[32m   1765\u001b[39m called_always_called_hooks = \u001b[38;5;28mset\u001b[39m()\n",
      "\u001b[36mCell\u001b[39m\u001b[36m \u001b[39m\u001b[32mIn[60]\u001b[39m\u001b[32m, line 109\u001b[39m, in \u001b[36mGPTLanguageModel.forward\u001b[39m\u001b[34m(self, idx, targets)\u001b[39m\n\u001b[32m    106\u001b[39m pos_embedding = \u001b[38;5;28mself\u001b[39m.pos_embd(torch.arange(T, device=\u001b[38;5;28mself\u001b[39m.device))\n\u001b[32m    108\u001b[39m x = tk_embedding + pos_embedding\n\u001b[32m--> \u001b[39m\u001b[32m109\u001b[39m x = \u001b[38;5;28;43mself\u001b[39;49m\u001b[43m.\u001b[49m\u001b[43mblocks\u001b[49m\u001b[43m(\u001b[49m\u001b[43mx\u001b[49m\u001b[43m)\u001b[49m\n\u001b[32m    110\u001b[39m x = \u001b[38;5;28mself\u001b[39m.norm(x)\n\u001b[32m    111\u001b[39m logits = \u001b[38;5;28mself\u001b[39m.out(x)\n",
      "\u001b[36mFile \u001b[39m\u001b[32m/usr/lib/python3.13/site-packages/torch/nn/modules/module.py:1751\u001b[39m, in \u001b[36mModule._wrapped_call_impl\u001b[39m\u001b[34m(self, *args, **kwargs)\u001b[39m\n\u001b[32m   1749\u001b[39m     \u001b[38;5;28;01mreturn\u001b[39;00m \u001b[38;5;28mself\u001b[39m._compiled_call_impl(*args, **kwargs)  \u001b[38;5;66;03m# type: ignore[misc]\u001b[39;00m\n\u001b[32m   1750\u001b[39m \u001b[38;5;28;01melse\u001b[39;00m:\n\u001b[32m-> \u001b[39m\u001b[32m1751\u001b[39m     \u001b[38;5;28;01mreturn\u001b[39;00m \u001b[38;5;28;43mself\u001b[39;49m\u001b[43m.\u001b[49m\u001b[43m_call_impl\u001b[49m\u001b[43m(\u001b[49m\u001b[43m*\u001b[49m\u001b[43margs\u001b[49m\u001b[43m,\u001b[49m\u001b[43m \u001b[49m\u001b[43m*\u001b[49m\u001b[43m*\u001b[49m\u001b[43mkwargs\u001b[49m\u001b[43m)\u001b[49m\n",
      "\u001b[36mFile \u001b[39m\u001b[32m/usr/lib/python3.13/site-packages/torch/nn/modules/module.py:1762\u001b[39m, in \u001b[36mModule._call_impl\u001b[39m\u001b[34m(self, *args, **kwargs)\u001b[39m\n\u001b[32m   1757\u001b[39m \u001b[38;5;66;03m# If we don't have any hooks, we want to skip the rest of the logic in\u001b[39;00m\n\u001b[32m   1758\u001b[39m \u001b[38;5;66;03m# this function, and just call forward.\u001b[39;00m\n\u001b[32m   1759\u001b[39m \u001b[38;5;28;01mif\u001b[39;00m \u001b[38;5;129;01mnot\u001b[39;00m (\u001b[38;5;28mself\u001b[39m._backward_hooks \u001b[38;5;129;01mor\u001b[39;00m \u001b[38;5;28mself\u001b[39m._backward_pre_hooks \u001b[38;5;129;01mor\u001b[39;00m \u001b[38;5;28mself\u001b[39m._forward_hooks \u001b[38;5;129;01mor\u001b[39;00m \u001b[38;5;28mself\u001b[39m._forward_pre_hooks\n\u001b[32m   1760\u001b[39m         \u001b[38;5;129;01mor\u001b[39;00m _global_backward_pre_hooks \u001b[38;5;129;01mor\u001b[39;00m _global_backward_hooks\n\u001b[32m   1761\u001b[39m         \u001b[38;5;129;01mor\u001b[39;00m _global_forward_hooks \u001b[38;5;129;01mor\u001b[39;00m _global_forward_pre_hooks):\n\u001b[32m-> \u001b[39m\u001b[32m1762\u001b[39m     \u001b[38;5;28;01mreturn\u001b[39;00m \u001b[43mforward_call\u001b[49m\u001b[43m(\u001b[49m\u001b[43m*\u001b[49m\u001b[43margs\u001b[49m\u001b[43m,\u001b[49m\u001b[43m \u001b[49m\u001b[43m*\u001b[49m\u001b[43m*\u001b[49m\u001b[43mkwargs\u001b[49m\u001b[43m)\u001b[49m\n\u001b[32m   1764\u001b[39m result = \u001b[38;5;28;01mNone\u001b[39;00m\n\u001b[32m   1765\u001b[39m called_always_called_hooks = \u001b[38;5;28mset\u001b[39m()\n",
      "\u001b[36mFile \u001b[39m\u001b[32m/usr/lib/python3.13/site-packages/torch/nn/modules/container.py:240\u001b[39m, in \u001b[36mSequential.forward\u001b[39m\u001b[34m(self, input)\u001b[39m\n\u001b[32m    238\u001b[39m \u001b[38;5;28;01mdef\u001b[39;00m\u001b[38;5;250m \u001b[39m\u001b[34mforward\u001b[39m(\u001b[38;5;28mself\u001b[39m, \u001b[38;5;28minput\u001b[39m):\n\u001b[32m    239\u001b[39m     \u001b[38;5;28;01mfor\u001b[39;00m module \u001b[38;5;129;01min\u001b[39;00m \u001b[38;5;28mself\u001b[39m:\n\u001b[32m--> \u001b[39m\u001b[32m240\u001b[39m         \u001b[38;5;28minput\u001b[39m = \u001b[43mmodule\u001b[49m\u001b[43m(\u001b[49m\u001b[38;5;28;43minput\u001b[39;49m\u001b[43m)\u001b[49m\n\u001b[32m    241\u001b[39m     \u001b[38;5;28;01mreturn\u001b[39;00m \u001b[38;5;28minput\u001b[39m\n",
      "\u001b[36mFile \u001b[39m\u001b[32m/usr/lib/python3.13/site-packages/torch/nn/modules/module.py:1751\u001b[39m, in \u001b[36mModule._wrapped_call_impl\u001b[39m\u001b[34m(self, *args, **kwargs)\u001b[39m\n\u001b[32m   1749\u001b[39m     \u001b[38;5;28;01mreturn\u001b[39;00m \u001b[38;5;28mself\u001b[39m._compiled_call_impl(*args, **kwargs)  \u001b[38;5;66;03m# type: ignore[misc]\u001b[39;00m\n\u001b[32m   1750\u001b[39m \u001b[38;5;28;01melse\u001b[39;00m:\n\u001b[32m-> \u001b[39m\u001b[32m1751\u001b[39m     \u001b[38;5;28;01mreturn\u001b[39;00m \u001b[38;5;28;43mself\u001b[39;49m\u001b[43m.\u001b[49m\u001b[43m_call_impl\u001b[49m\u001b[43m(\u001b[49m\u001b[43m*\u001b[49m\u001b[43margs\u001b[49m\u001b[43m,\u001b[49m\u001b[43m \u001b[49m\u001b[43m*\u001b[49m\u001b[43m*\u001b[49m\u001b[43mkwargs\u001b[49m\u001b[43m)\u001b[49m\n",
      "\u001b[36mFile \u001b[39m\u001b[32m/usr/lib/python3.13/site-packages/torch/nn/modules/module.py:1762\u001b[39m, in \u001b[36mModule._call_impl\u001b[39m\u001b[34m(self, *args, **kwargs)\u001b[39m\n\u001b[32m   1757\u001b[39m \u001b[38;5;66;03m# If we don't have any hooks, we want to skip the rest of the logic in\u001b[39;00m\n\u001b[32m   1758\u001b[39m \u001b[38;5;66;03m# this function, and just call forward.\u001b[39;00m\n\u001b[32m   1759\u001b[39m \u001b[38;5;28;01mif\u001b[39;00m \u001b[38;5;129;01mnot\u001b[39;00m (\u001b[38;5;28mself\u001b[39m._backward_hooks \u001b[38;5;129;01mor\u001b[39;00m \u001b[38;5;28mself\u001b[39m._backward_pre_hooks \u001b[38;5;129;01mor\u001b[39;00m \u001b[38;5;28mself\u001b[39m._forward_hooks \u001b[38;5;129;01mor\u001b[39;00m \u001b[38;5;28mself\u001b[39m._forward_pre_hooks\n\u001b[32m   1760\u001b[39m         \u001b[38;5;129;01mor\u001b[39;00m _global_backward_pre_hooks \u001b[38;5;129;01mor\u001b[39;00m _global_backward_hooks\n\u001b[32m   1761\u001b[39m         \u001b[38;5;129;01mor\u001b[39;00m _global_forward_hooks \u001b[38;5;129;01mor\u001b[39;00m _global_forward_pre_hooks):\n\u001b[32m-> \u001b[39m\u001b[32m1762\u001b[39m     \u001b[38;5;28;01mreturn\u001b[39;00m \u001b[43mforward_call\u001b[49m\u001b[43m(\u001b[49m\u001b[43m*\u001b[49m\u001b[43margs\u001b[49m\u001b[43m,\u001b[49m\u001b[43m \u001b[49m\u001b[43m*\u001b[49m\u001b[43m*\u001b[49m\u001b[43mkwargs\u001b[49m\u001b[43m)\u001b[49m\n\u001b[32m   1764\u001b[39m result = \u001b[38;5;28;01mNone\u001b[39;00m\n\u001b[32m   1765\u001b[39m called_always_called_hooks = \u001b[38;5;28mset\u001b[39m()\n",
      "\u001b[36mCell\u001b[39m\u001b[36m \u001b[39m\u001b[32mIn[60]\u001b[39m\u001b[32m, line 79\u001b[39m, in \u001b[36mBlock.forward\u001b[39m\u001b[34m(self, x)\u001b[39m\n\u001b[32m     77\u001b[39m \u001b[38;5;28;01mdef\u001b[39;00m\u001b[38;5;250m \u001b[39m\u001b[34mforward\u001b[39m(\u001b[38;5;28mself\u001b[39m, x: torch.Tensor) -> torch.Tensor:\n\u001b[32m     78\u001b[39m     \u001b[38;5;66;03m# original input are added back intentionally as residuals\u001b[39;00m\n\u001b[32m---> \u001b[39m\u001b[32m79\u001b[39m     x = x + \u001b[38;5;28;43mself\u001b[39;49m\u001b[43m.\u001b[49m\u001b[43mattention\u001b[49m\u001b[43m(\u001b[49m\u001b[38;5;28;43mself\u001b[39;49m\u001b[43m.\u001b[49m\u001b[43mnorm1\u001b[49m\u001b[43m(\u001b[49m\u001b[43mx\u001b[49m\u001b[43m)\u001b[49m\u001b[43m)\u001b[49m\n\u001b[32m     80\u001b[39m     x = x + \u001b[38;5;28mself\u001b[39m.feed_forward(\u001b[38;5;28mself\u001b[39m.norm2(x))\n\u001b[32m     81\u001b[39m     \u001b[38;5;28;01mreturn\u001b[39;00m x\n",
      "\u001b[36mFile \u001b[39m\u001b[32m/usr/lib/python3.13/site-packages/torch/nn/modules/module.py:1751\u001b[39m, in \u001b[36mModule._wrapped_call_impl\u001b[39m\u001b[34m(self, *args, **kwargs)\u001b[39m\n\u001b[32m   1749\u001b[39m     \u001b[38;5;28;01mreturn\u001b[39;00m \u001b[38;5;28mself\u001b[39m._compiled_call_impl(*args, **kwargs)  \u001b[38;5;66;03m# type: ignore[misc]\u001b[39;00m\n\u001b[32m   1750\u001b[39m \u001b[38;5;28;01melse\u001b[39;00m:\n\u001b[32m-> \u001b[39m\u001b[32m1751\u001b[39m     \u001b[38;5;28;01mreturn\u001b[39;00m \u001b[38;5;28;43mself\u001b[39;49m\u001b[43m.\u001b[49m\u001b[43m_call_impl\u001b[49m\u001b[43m(\u001b[49m\u001b[43m*\u001b[49m\u001b[43margs\u001b[49m\u001b[43m,\u001b[49m\u001b[43m \u001b[49m\u001b[43m*\u001b[49m\u001b[43m*\u001b[49m\u001b[43mkwargs\u001b[49m\u001b[43m)\u001b[49m\n",
      "\u001b[36mFile \u001b[39m\u001b[32m/usr/lib/python3.13/site-packages/torch/nn/modules/module.py:1762\u001b[39m, in \u001b[36mModule._call_impl\u001b[39m\u001b[34m(self, *args, **kwargs)\u001b[39m\n\u001b[32m   1757\u001b[39m \u001b[38;5;66;03m# If we don't have any hooks, we want to skip the rest of the logic in\u001b[39;00m\n\u001b[32m   1758\u001b[39m \u001b[38;5;66;03m# this function, and just call forward.\u001b[39;00m\n\u001b[32m   1759\u001b[39m \u001b[38;5;28;01mif\u001b[39;00m \u001b[38;5;129;01mnot\u001b[39;00m (\u001b[38;5;28mself\u001b[39m._backward_hooks \u001b[38;5;129;01mor\u001b[39;00m \u001b[38;5;28mself\u001b[39m._backward_pre_hooks \u001b[38;5;129;01mor\u001b[39;00m \u001b[38;5;28mself\u001b[39m._forward_hooks \u001b[38;5;129;01mor\u001b[39;00m \u001b[38;5;28mself\u001b[39m._forward_pre_hooks\n\u001b[32m   1760\u001b[39m         \u001b[38;5;129;01mor\u001b[39;00m _global_backward_pre_hooks \u001b[38;5;129;01mor\u001b[39;00m _global_backward_hooks\n\u001b[32m   1761\u001b[39m         \u001b[38;5;129;01mor\u001b[39;00m _global_forward_hooks \u001b[38;5;129;01mor\u001b[39;00m _global_forward_pre_hooks):\n\u001b[32m-> \u001b[39m\u001b[32m1762\u001b[39m     \u001b[38;5;28;01mreturn\u001b[39;00m \u001b[43mforward_call\u001b[49m\u001b[43m(\u001b[49m\u001b[43m*\u001b[49m\u001b[43margs\u001b[49m\u001b[43m,\u001b[49m\u001b[43m \u001b[49m\u001b[43m*\u001b[49m\u001b[43m*\u001b[49m\u001b[43mkwargs\u001b[49m\u001b[43m)\u001b[49m\n\u001b[32m   1764\u001b[39m result = \u001b[38;5;28;01mNone\u001b[39;00m\n\u001b[32m   1765\u001b[39m called_always_called_hooks = \u001b[38;5;28mset\u001b[39m()\n",
      "\u001b[36mCell\u001b[39m\u001b[36m \u001b[39m\u001b[32mIn[60]\u001b[39m\u001b[32m, line 41\u001b[39m, in \u001b[36mMultiHeadAttention.forward\u001b[39m\u001b[34m(self, x)\u001b[39m\n\u001b[32m     40\u001b[39m \u001b[38;5;28;01mdef\u001b[39;00m\u001b[38;5;250m \u001b[39m\u001b[34mforward\u001b[39m(\u001b[38;5;28mself\u001b[39m, x: torch.Tensor) -> torch.Tensor:\n\u001b[32m---> \u001b[39m\u001b[32m41\u001b[39m     cat_heads = torch.cat([\u001b[43mh\u001b[49m\u001b[43m(\u001b[49m\u001b[43mx\u001b[49m\u001b[43m)\u001b[49m \u001b[38;5;28;01mfor\u001b[39;00m h \u001b[38;5;129;01min\u001b[39;00m \u001b[38;5;28mself\u001b[39m.heads], dim=-\u001b[32m1\u001b[39m)\n\u001b[32m     42\u001b[39m     out = \u001b[38;5;28mself\u001b[39m.projection(cat_heads)\n\u001b[32m     43\u001b[39m     out = \u001b[38;5;28mself\u001b[39m.dropout(out)\n",
      "\u001b[36mFile \u001b[39m\u001b[32m/usr/lib/python3.13/site-packages/torch/nn/modules/module.py:1751\u001b[39m, in \u001b[36mModule._wrapped_call_impl\u001b[39m\u001b[34m(self, *args, **kwargs)\u001b[39m\n\u001b[32m   1749\u001b[39m     \u001b[38;5;28;01mreturn\u001b[39;00m \u001b[38;5;28mself\u001b[39m._compiled_call_impl(*args, **kwargs)  \u001b[38;5;66;03m# type: ignore[misc]\u001b[39;00m\n\u001b[32m   1750\u001b[39m \u001b[38;5;28;01melse\u001b[39;00m:\n\u001b[32m-> \u001b[39m\u001b[32m1751\u001b[39m     \u001b[38;5;28;01mreturn\u001b[39;00m \u001b[38;5;28;43mself\u001b[39;49m\u001b[43m.\u001b[49m\u001b[43m_call_impl\u001b[49m\u001b[43m(\u001b[49m\u001b[43m*\u001b[49m\u001b[43margs\u001b[49m\u001b[43m,\u001b[49m\u001b[43m \u001b[49m\u001b[43m*\u001b[49m\u001b[43m*\u001b[49m\u001b[43mkwargs\u001b[49m\u001b[43m)\u001b[49m\n",
      "\u001b[36mFile \u001b[39m\u001b[32m/usr/lib/python3.13/site-packages/torch/nn/modules/module.py:1762\u001b[39m, in \u001b[36mModule._call_impl\u001b[39m\u001b[34m(self, *args, **kwargs)\u001b[39m\n\u001b[32m   1757\u001b[39m \u001b[38;5;66;03m# If we don't have any hooks, we want to skip the rest of the logic in\u001b[39;00m\n\u001b[32m   1758\u001b[39m \u001b[38;5;66;03m# this function, and just call forward.\u001b[39;00m\n\u001b[32m   1759\u001b[39m \u001b[38;5;28;01mif\u001b[39;00m \u001b[38;5;129;01mnot\u001b[39;00m (\u001b[38;5;28mself\u001b[39m._backward_hooks \u001b[38;5;129;01mor\u001b[39;00m \u001b[38;5;28mself\u001b[39m._backward_pre_hooks \u001b[38;5;129;01mor\u001b[39;00m \u001b[38;5;28mself\u001b[39m._forward_hooks \u001b[38;5;129;01mor\u001b[39;00m \u001b[38;5;28mself\u001b[39m._forward_pre_hooks\n\u001b[32m   1760\u001b[39m         \u001b[38;5;129;01mor\u001b[39;00m _global_backward_pre_hooks \u001b[38;5;129;01mor\u001b[39;00m _global_backward_hooks\n\u001b[32m   1761\u001b[39m         \u001b[38;5;129;01mor\u001b[39;00m _global_forward_hooks \u001b[38;5;129;01mor\u001b[39;00m _global_forward_pre_hooks):\n\u001b[32m-> \u001b[39m\u001b[32m1762\u001b[39m     \u001b[38;5;28;01mreturn\u001b[39;00m \u001b[43mforward_call\u001b[49m\u001b[43m(\u001b[49m\u001b[43m*\u001b[49m\u001b[43margs\u001b[49m\u001b[43m,\u001b[49m\u001b[43m \u001b[49m\u001b[43m*\u001b[49m\u001b[43m*\u001b[49m\u001b[43mkwargs\u001b[49m\u001b[43m)\u001b[49m\n\u001b[32m   1764\u001b[39m result = \u001b[38;5;28;01mNone\u001b[39;00m\n\u001b[32m   1765\u001b[39m called_always_called_hooks = \u001b[38;5;28mset\u001b[39m()\n",
      "\u001b[36mCell\u001b[39m\u001b[36m \u001b[39m\u001b[32mIn[60]\u001b[39m\u001b[32m, line 22\u001b[39m, in \u001b[36mHead.forward\u001b[39m\u001b[34m(self, x)\u001b[39m\n\u001b[32m     19\u001b[39m \u001b[38;5;66;03m# (1, T, T) -> (B, T, T)\u001b[39;00m\n\u001b[32m     20\u001b[39m mask = \u001b[38;5;28mself\u001b[39m.tril[:T, :T].unsqueeze(\u001b[32m0\u001b[39m).expand(B, -\u001b[32m1\u001b[39m, -\u001b[32m1\u001b[39m).to(x.device)\n\u001b[32m---> \u001b[39m\u001b[32m22\u001b[39m weights = \u001b[43mQ\u001b[49m\u001b[43m \u001b[49m\u001b[43m@\u001b[49m\u001b[43m \u001b[49m\u001b[43mK\u001b[49m\u001b[43m.\u001b[49m\u001b[43mtranspose\u001b[49m\u001b[43m(\u001b[49m\u001b[43m-\u001b[49m\u001b[32;43m2\u001b[39;49m\u001b[43m,\u001b[49m\u001b[43m \u001b[49m\u001b[32;43m1\u001b[39;49m\u001b[43m)\u001b[49m * d_k ** -\u001b[32m0.5\u001b[39m\n\u001b[32m     23\u001b[39m weights = weights.masked_fill(mask == \u001b[32m0\u001b[39m, \u001b[38;5;28mfloat\u001b[39m(\u001b[33m'\u001b[39m\u001b[33minf\u001b[39m\u001b[33m'\u001b[39m))\n\u001b[32m     25\u001b[39m weights = F.softmax(weights, dim=-\u001b[32m1\u001b[39m)\n",
      "\u001b[31mRuntimeError\u001b[39m: Expected size for first two dimensions of batch2 tensor to be: [64, 64] but got: [64, 256]."
     ]
    }
   ],
   "source": [
    "for epoch in range(max_iters):\n",
    "    x, y = get_batch('train')\n",
    "\n",
    "    model.train()\n",
    "    x.shape\n",
    "    outputs, loss = model(x, y)\n",
    "\n",
    "    optimizer.zero_grad()\n",
    "    loss.backward()\n",
    "    optimizer.step()\n",
    "\n",
    "    if (i + 1) % 100 == 0:\n",
    "        model.eval()\n",
    "        with torch.no_grad():\n",
    "            val_x, val_y = get_batch('val')\n",
    "            _, val_loss = model(val_x, val_y)\n",
    "        print(f\"Epoch [{epoch + 1}/{max_iters}], Step [{i + 1}/{batch_size}], Train Loss: {loss.item():.4f} | Val Loss: {val_loss.item():.4f}\")"
   ]
  },
  {
   "cell_type": "code",
   "execution_count": null,
   "id": "3434a84f-a0d5-4347-95c8-442f9be0b2fb",
   "metadata": {},
   "outputs": [],
   "source": []
  }
 ],
 "metadata": {
  "kernelspec": {
   "display_name": "Python 3 (ipykernel)",
   "language": "python",
   "name": "python3"
  },
  "language_info": {
   "codemirror_mode": {
    "name": "ipython",
    "version": 3
   },
   "file_extension": ".py",
   "mimetype": "text/x-python",
   "name": "python",
   "nbconvert_exporter": "python",
   "pygments_lexer": "ipython3",
   "version": "3.13.3"
  }
 },
 "nbformat": 4,
 "nbformat_minor": 5
}
